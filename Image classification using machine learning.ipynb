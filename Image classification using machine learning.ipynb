{
  "nbformat": 4,
  "nbformat_minor": 0,
  "metadata": {
    "colab": {
      "name": "Image Classification using ML.ipynb",
      "provenance": [],
      "collapsed_sections": []
    },
    "kernelspec": {
      "name": "python3",
      "display_name": "Python 3"
    },
    "language_info": {
      "name": "python"
    }
  },
  "cells": [
    {
      "cell_type": "code",
      "execution_count": 1,
      "metadata": {
        "id": "MfNHVEQNbWLF"
      },
      "outputs": [],
      "source": [
        "from tensorflow import keras\n",
        "import matplotlib.pyplot as plt\n",
        "import numpy as np"
      ]
    },
    {
      "cell_type": "code",
      "metadata": {
        "colab": {
          "base_uri": "https://localhost:8080/"
        },
        "id": "VuLXgSS_Jj6o",
        "outputId": "add7277d-28e9-40a6-dbe2-ee916a3ccbcc"
      },
      "source": [
        "(x_train, y_train), (x_test, y_test) = keras.datasets.cifar10.load_data()"
      ],
      "execution_count": 2,
      "outputs": [
        {
          "output_type": "stream",
          "name": "stdout",
          "text": [
            "Downloading data from https://www.cs.toronto.edu/~kriz/cifar-10-python.tar.gz\n",
            "170500096/170498071 [==============================] - 2s 0us/step\n",
            "170508288/170498071 [==============================] - 2s 0us/step\n"
          ]
        }
      ]
    },
    {
      "cell_type": "code",
      "metadata": {
        "colab": {
          "base_uri": "https://localhost:8080/"
        },
        "id": "FgbEcbMVJppH",
        "outputId": "3c7677cc-7c93-4c50-b4c1-f1811acf84e5"
      },
      "source": [
        "x_train.shape,y_train.shape"
      ],
      "execution_count": 12,
      "outputs": [
        {
          "output_type": "execute_result",
          "data": {
            "text/plain": [
              "((50000, 32, 32, 3), (50000, 1))"
            ]
          },
          "metadata": {},
          "execution_count": 12
        }
      ]
    },
    {
      "cell_type": "code",
      "source": [
        "y_train"
      ],
      "metadata": {
        "colab": {
          "base_uri": "https://localhost:8080/"
        },
        "id": "mKujr80shlo-",
        "outputId": "896c8b04-fe45-4666-94a4-0f0ed8eb000f"
      },
      "execution_count": 24,
      "outputs": [
        {
          "output_type": "execute_result",
          "data": {
            "text/plain": [
              "array([[6],\n",
              "       [9],\n",
              "       [9],\n",
              "       ...,\n",
              "       [9],\n",
              "       [1],\n",
              "       [1]], dtype=uint8)"
            ]
          },
          "metadata": {},
          "execution_count": 24
        }
      ]
    },
    {
      "cell_type": "code",
      "metadata": {
        "id": "L8dlaySAJ1BL"
      },
      "source": [
        "classes = [\"airplane\",\"automobile\",\"bird\",\"cat\",\"deer\",\"dog\",\"frog\",\"horse\",\"ship\",\"truck\"]"
      ],
      "execution_count": 4,
      "outputs": []
    },
    {
      "cell_type": "code",
      "metadata": {
        "colab": {
          "base_uri": "https://localhost:8080/",
          "height": 284
        },
        "id": "vnEAQCOEKKyr",
        "outputId": "fa490ac6-dc56-4bbc-85be-ebbde0a362b2"
      },
      "source": [
        "# Displaying image\n",
        "img = 2100\n",
        "plt.imshow(x_train[img])\n",
        "plt.show()\n",
        "classes[y_train[img][0]]"
      ],
      "execution_count": 6,
      "outputs": [
        {
          "output_type": "display_data",
          "data": {
            "image/png": "[encoded data removed]",
            "text/plain": [
              "<Figure size 432x288 with 1 Axes>"
            ]
          },
          "metadata": {
            "needs_background": "light"
          }
        },
        {
          "output_type": "execute_result",
          "data": {
            "application/vnd.google.colaboratory.intrinsic+json": {
              "type": "string"
            },
            "text/plain": [
              "'frog'"
            ]
          },
          "metadata": {},
          "execution_count": 6
        }
      ]
    },
    {
      "cell_type": "markdown",
      "source": [
        "Dataset pre-processing"
      ],
      "metadata": {
        "id": "KkAxzh66ddoF"
      }
    },
    {
      "cell_type": "code",
      "metadata": {
        "id": "C-AFnE4gKe73"
      },
      "source": [
        "# Normalization\n",
        "x_train = x_train/255.0\n",
        "x_test = x_test/255.0"
      ],
      "execution_count": 7,
      "outputs": []
    },
    {
      "cell_type": "code",
      "source": [
        "#sklearn expects i/p to be 2d array-model.fit(x_train,y_train)=>reshape to 2d array\n",
        "nsamples, nx, ny, nrgb = x_train.shape\n",
        "x_train2 = x_train.reshape((nsamples,nx*ny*nrgb))"
      ],
      "metadata": {
        "id": "gL9x-wEnfEPW"
      },
      "execution_count": 14,
      "outputs": []
    },
    {
      "cell_type": "code",
      "source": [
        "#so,eventually,model.predict() should also be a 2d input\n",
        "nsamples, nx, ny, nrgb = x_test.shape\n",
        "x_test2 = x_test.reshape((nsamples,nx*ny*nrgb))"
      ],
      "metadata": {
        "id": "Z4huQ35bf1OZ"
      },
      "execution_count": 21,
      "outputs": []
    },
    {
      "cell_type": "code",
      "source": [
        "x_train2.shape,x_test2.shape"
      ],
      "metadata": {
        "colab": {
          "base_uri": "https://localhost:8080/"
        },
        "id": "J5pDpD4xffg1",
        "outputId": "39c0d5aa-f4c3-471a-d229-e1fd0dcf1dd9"
      },
      "execution_count": 22,
      "outputs": [
        {
          "output_type": "execute_result",
          "data": {
            "text/plain": [
              "((50000, 3072), (10000, 3072))"
            ]
          },
          "metadata": {},
          "execution_count": 22
        }
      ]
    },
    {
      "cell_type": "markdown",
      "source": [
        "Building an RFClassifier model"
      ],
      "metadata": {
        "id": "AC9JtnXBdggJ"
      }
    },
    {
      "cell_type": "code",
      "execution_count": 8,
      "metadata": {
        "id": "Cjz8I8Lwb_wg"
      },
      "outputs": [],
      "source": [
        "from sklearn.ensemble import RandomForestClassifier"
      ]
    },
    {
      "cell_type": "code",
      "execution_count": 17,
      "metadata": {
        "id": "amBk9hbEb_wg"
      },
      "outputs": [],
      "source": [
        "model=RandomForestClassifier()"
      ]
    },
    {
      "cell_type": "code",
      "execution_count": 19,
      "metadata": {
        "id": "0h1qIfSyb_wg",
        "outputId": "a36636c9-c7b7-466f-a3de-348d12444e08",
        "colab": {
          "base_uri": "https://localhost:8080/"
        }
      },
      "outputs": [
        {
          "output_type": "stream",
          "name": "stderr",
          "text": [
            "/usr/local/lib/python3.7/dist-packages/ipykernel_launcher.py:1: DataConversionWarning: A column-vector y was passed when a 1d array was expected. Please change the shape of y to (n_samples,), for example using ravel().\n",
            "  \"\"\"Entry point for launching an IPython kernel.\n"
          ]
        },
        {
          "output_type": "execute_result",
          "data": {
            "text/plain": [
              "RandomForestClassifier()"
            ]
          },
          "metadata": {},
          "execution_count": 19
        }
      ],
      "source": [
        "model.fit(x_train2,y_train)\n",
        "#training time:4 minutes"
      ]
    },
    {
      "cell_type": "markdown",
      "source": [
        "RFClassifier model evaluation"
      ],
      "metadata": {
        "id": "Y5pj5DsMdjzu"
      }
    },
    {
      "cell_type": "code",
      "source": [
        "y_pred=model.predict(x_test2)\n",
        "y_pred"
      ],
      "metadata": {
        "colab": {
          "base_uri": "https://localhost:8080/"
        },
        "id": "yz2mWcqMdq-d",
        "outputId": "c122ff62-cb09-4691-8c79-0cf1df0e77f5"
      },
      "execution_count": 23,
      "outputs": [
        {
          "output_type": "execute_result",
          "data": {
            "text/plain": [
              "array([6, 8, 8, ..., 5, 5, 7], dtype=uint8)"
            ]
          },
          "metadata": {},
          "execution_count": 23
        }
      ]
    },
    {
      "cell_type": "code",
      "execution_count": 25,
      "metadata": {
        "id": "FpZPL6dOb_wi"
      },
      "outputs": [],
      "source": [
        "from sklearn.metrics import accuracy_score,confusion_matrix,classification_report"
      ]
    },
    {
      "cell_type": "code",
      "execution_count": 26,
      "metadata": {
        "id": "3PEqaRJxb_wi",
        "outputId": "00728a5c-9a50-44c2-face-2f85ccdbc42b",
        "colab": {
          "base_uri": "https://localhost:8080/"
        }
      },
      "outputs": [
        {
          "output_type": "execute_result",
          "data": {
            "text/plain": [
              "0.4686"
            ]
          },
          "metadata": {},
          "execution_count": 26
        }
      ],
      "source": [
        "accuracy_score(y_pred,y_test)"
      ]
    },
    {
      "cell_type": "code",
      "source": [
        "print(classification_report(y_pred,y_test))"
      ],
      "metadata": {
        "colab": {
          "base_uri": "https://localhost:8080/"
        },
        "id": "HkjfPgOZgKTA",
        "outputId": "5b7016d7-8c31-4126-eef1-4a38112e3f72"
      },
      "execution_count": 27,
      "outputs": [
        {
          "output_type": "stream",
          "name": "stdout",
          "text": [
            "              precision    recall  f1-score   support\n",
            "\n",
            "           0       0.56      0.53      0.55      1049\n",
            "           1       0.56      0.52      0.54      1076\n",
            "           2       0.32      0.37      0.34       867\n",
            "           3       0.26      0.34      0.30       774\n",
            "           4       0.41      0.40      0.40      1016\n",
            "           5       0.40      0.42      0.41       946\n",
            "           6       0.57      0.48      0.52      1202\n",
            "           7       0.45      0.52      0.48       872\n",
            "           8       0.60      0.58      0.59      1047\n",
            "           9       0.55      0.48      0.51      1151\n",
            "\n",
            "    accuracy                           0.47     10000\n",
            "   macro avg       0.47      0.46      0.46     10000\n",
            "weighted avg       0.48      0.47      0.47     10000\n",
            "\n"
          ]
        }
      ]
    },
    {
      "cell_type": "code",
      "source": [
        "confusion_matrix(y_pred,y_test)"
      ],
      "metadata": {
        "colab": {
          "base_uri": "https://localhost:8080/"
        },
        "id": "I_5MifUygYba",
        "outputId": "971fa059-7742-4253-d8d1-8b1c07803a70"
      },
      "execution_count": 28,
      "outputs": [
        {
          "output_type": "execute_result",
          "data": {
            "text/plain": [
              "array([[560,  36, 100,  54,  59,  34,   9,  53,  93,  51],\n",
              "       [ 33, 563,  38,  47,  24,  30,  33,  44,  95, 169],\n",
              "       [ 57,  14, 321,  86, 138, 101,  78,  42,  14,  16],\n",
              "       [ 26,  39,  78, 262,  46, 139,  72,  54,  30,  28],\n",
              "       [ 32,  19, 156,  82, 408,  77, 101, 105,  17,  19],\n",
              "       [ 17,  29,  59, 186,  53, 401,  62,  86,  32,  21],\n",
              "       [ 27,  36, 122, 142, 139,  77, 571,  48,  15,  25],\n",
              "       [ 24,  36,  68,  53,  82,  83,  22, 450,  17,  37],\n",
              "       [169,  54,  28,  23,  26,  28,   5,  24, 603,  87],\n",
              "       [ 55, 174,  30,  65,  25,  30,  47,  94,  84, 547]])"
            ]
          },
          "metadata": {},
          "execution_count": 28
        }
      ]
    },
    {
      "cell_type": "markdown",
      "source": [
        "Building a KNN model"
      ],
      "metadata": {
        "id": "o37PkZsnnQg2"
      }
    },
    {
      "cell_type": "code",
      "execution_count": 62,
      "metadata": {
        "id": "XEooVg7HmS6p"
      },
      "outputs": [],
      "source": [
        "from sklearn.neighbors import KNeighborsClassifier"
      ]
    },
    {
      "cell_type": "code",
      "execution_count": 63,
      "metadata": {
        "id": "IcerUOoUmS6p"
      },
      "outputs": [],
      "source": [
        "knn=KNeighborsClassifier(n_neighbors=7)"
      ]
    },
    {
      "cell_type": "code",
      "execution_count": 64,
      "metadata": {
        "id": "Cp62si4tmS6q",
        "colab": {
          "base_uri": "https://localhost:8080/"
        },
        "outputId": "31cd89f6-7b2c-4d51-900f-d88f3c41a0e0"
      },
      "outputs": [
        {
          "output_type": "stream",
          "name": "stderr",
          "text": [
            "/usr/local/lib/python3.7/dist-packages/sklearn/neighbors/_classification.py:198: DataConversionWarning: A column-vector y was passed when a 1d array was expected. Please change the shape of y to (n_samples,), for example using ravel().\n",
            "  return self._fit(X, y)\n"
          ]
        },
        {
          "output_type": "execute_result",
          "data": {
            "text/plain": [
              "KNeighborsClassifier(n_neighbors=7)"
            ]
          },
          "metadata": {},
          "execution_count": 64
        }
      ],
      "source": [
        "knn.fit(x_train2,y_train)"
      ]
    },
    {
      "cell_type": "markdown",
      "source": [
        "KNN model evaluation"
      ],
      "metadata": {
        "id": "SHci34pVnQhA"
      }
    },
    {
      "cell_type": "code",
      "source": [
        "y_pred_knn=knn.predict(x_test2)\n",
        "y_pred_knn"
      ],
      "metadata": {
        "colab": {
          "base_uri": "https://localhost:8080/"
        },
        "id": "r26JJ32SnQhB",
        "outputId": "a33dd02d-6249-4e84-b322-22a9a1adc0ed"
      },
      "execution_count": 65,
      "outputs": [
        {
          "output_type": "execute_result",
          "data": {
            "text/plain": [
              "array([2, 8, 8, ..., 5, 6, 4], dtype=uint8)"
            ]
          },
          "metadata": {},
          "execution_count": 65
        }
      ]
    },
    {
      "cell_type": "code",
      "execution_count": 66,
      "metadata": {
        "colab": {
          "base_uri": "https://localhost:8080/"
        },
        "id": "gszL0Ic7nQhC",
        "outputId": "73be9e4d-e62a-4220-f631-a22a53891d73"
      },
      "outputs": [
        {
          "output_type": "execute_result",
          "data": {
            "text/plain": [
              "0.3358"
            ]
          },
          "metadata": {},
          "execution_count": 66
        }
      ],
      "source": [
        "accuracy_score(y_pred_knn,y_test)"
      ]
    },
    {
      "cell_type": "code",
      "source": [
        "print(classification_report(y_pred_knn,y_test))"
      ],
      "metadata": {
        "colab": {
          "base_uri": "https://localhost:8080/"
        },
        "id": "nbWlQ6IinQhC",
        "outputId": "afd8ad02-baf1-4e39-ccd8-c9a0ef5aeff4"
      },
      "execution_count": 67,
      "outputs": [
        {
          "output_type": "stream",
          "name": "stdout",
          "text": [
            "              precision    recall  f1-score   support\n",
            "\n",
            "           0       0.52      0.40      0.45      1299\n",
            "           1       0.20      0.70      0.30       280\n",
            "           2       0.44      0.22      0.29      2013\n",
            "           3       0.20      0.28      0.23       707\n",
            "           4       0.52      0.23      0.32      2222\n",
            "           5       0.20      0.40      0.27       504\n",
            "           6       0.27      0.35      0.30       761\n",
            "           7       0.20      0.70      0.31       281\n",
            "           8       0.69      0.39      0.50      1749\n",
            "           9       0.14      0.73      0.23       184\n",
            "\n",
            "    accuracy                           0.34     10000\n",
            "   macro avg       0.34      0.44      0.32     10000\n",
            "weighted avg       0.45      0.34      0.35     10000\n",
            "\n"
          ]
        }
      ]
    },
    {
      "cell_type": "code",
      "source": [
        "confusion_matrix(y_pred_knn,y_test)"
      ],
      "metadata": {
        "colab": {
          "base_uri": "https://localhost:8080/"
        },
        "id": "nMwt6Z42nQhD",
        "outputId": "d2a23fce-187e-4846-cc2b-a9a67b93183e"
      },
      "execution_count": 68,
      "outputs": [
        {
          "output_type": "execute_result",
          "data": {
            "text/plain": [
              "array([[518, 118, 110,  66,  60,  63,  22,  78, 112, 152],\n",
              "       [  7, 195,   2,   5,   0,   2,   1,   8,  10,  50],\n",
              "       [118, 124, 437, 243, 268, 225, 271, 185,  47,  95],\n",
              "       [ 12,  51,  50, 199,  33, 156,  56,  57,  34,  59],\n",
              "       [ 46, 173, 250, 214, 521, 201, 319, 294,  69, 135],\n",
              "       [  5,  32,  24, 102,  14, 204,  32,  60,  12,  19],\n",
              "       [ 30,  55,  65, 108,  44,  80, 265,  48,  14,  52],\n",
              "       [  5,   8,   7,  11,  11,  10,   1, 196,   7,  25],\n",
              "       [255, 223,  53,  51,  48,  53,  32,  68, 688, 278],\n",
              "       [  4,  21,   2,   1,   1,   6,   1,   6,   7, 135]])"
            ]
          },
          "metadata": {},
          "execution_count": 68
        }
      ]
    },
    {
      "cell_type": "markdown",
      "source": [
        "Building a Decision Tree model"
      ],
      "metadata": {
        "id": "jAACzQTkntMv"
      }
    },
    {
      "cell_type": "code",
      "execution_count": 55,
      "metadata": {
        "id": "0gZ4pZkOntNK"
      },
      "outputs": [],
      "source": [
        "from sklearn.tree import DecisionTreeClassifier"
      ]
    },
    {
      "cell_type": "code",
      "execution_count": 56,
      "metadata": {
        "id": "8nMhzXZzntNL"
      },
      "outputs": [],
      "source": [
        "dtc=DecisionTreeClassifier()"
      ]
    },
    {
      "cell_type": "code",
      "execution_count": 57,
      "metadata": {
        "colab": {
          "base_uri": "https://localhost:8080/"
        },
        "id": "xOa6F6oWntNM",
        "outputId": "36a7b7db-becd-4e00-8da0-9f43e16c8aaa"
      },
      "outputs": [
        {
          "output_type": "execute_result",
          "data": {
            "text/plain": [
              "DecisionTreeClassifier()"
            ]
          },
          "metadata": {},
          "execution_count": 57
        }
      ],
      "source": [
        "dtc.fit(x_train2,y_train)"
      ]
    },
    {
      "cell_type": "markdown",
      "source": [
        "DecisionTreeClassifier model evaluation"
      ],
      "metadata": {
        "id": "zJRHSSFcntNN"
      }
    },
    {
      "cell_type": "code",
      "source": [
        "y_pred_dtc=dtc.predict(x_test2)\n",
        "y_pred_dtc"
      ],
      "metadata": {
        "colab": {
          "base_uri": "https://localhost:8080/"
        },
        "id": "Pad2YkSEntNN",
        "outputId": "bb05ad44-7783-4598-fb1b-d32e8a4caa36"
      },
      "execution_count": 58,
      "outputs": [
        {
          "output_type": "execute_result",
          "data": {
            "text/plain": [
              "array([7, 1, 1, ..., 2, 3, 4], dtype=uint8)"
            ]
          },
          "metadata": {},
          "execution_count": 58
        }
      ]
    },
    {
      "cell_type": "code",
      "execution_count": 59,
      "metadata": {
        "colab": {
          "base_uri": "https://localhost:8080/"
        },
        "id": "lSYsQpqantNO",
        "outputId": "a5a7bed4-8cbb-4549-ad51-f6f4b59fff4e"
      },
      "outputs": [
        {
          "output_type": "execute_result",
          "data": {
            "text/plain": [
              "0.2695"
            ]
          },
          "metadata": {},
          "execution_count": 59
        }
      ],
      "source": [
        "accuracy_score(y_pred_dtc,y_test)"
      ]
    },
    {
      "cell_type": "code",
      "source": [
        "print(classification_report(y_pred_dtc,y_test))"
      ],
      "metadata": {
        "colab": {
          "base_uri": "https://localhost:8080/"
        },
        "id": "rpgDLVwkntNP",
        "outputId": "86dd0e7e-7d62-47e7-ab53-b5683e5e3683"
      },
      "execution_count": 60,
      "outputs": [
        {
          "output_type": "stream",
          "name": "stdout",
          "text": [
            "              precision    recall  f1-score   support\n",
            "\n",
            "           0       0.35      0.33      0.34      1050\n",
            "           1       0.28      0.29      0.29       954\n",
            "           2       0.22      0.20      0.21      1080\n",
            "           3       0.18      0.19      0.19       994\n",
            "           4       0.22      0.21      0.22      1044\n",
            "           5       0.21      0.22      0.22       934\n",
            "           6       0.28      0.29      0.28       989\n",
            "           7       0.26      0.28      0.27       954\n",
            "           8       0.40      0.38      0.39      1045\n",
            "           9       0.28      0.30      0.29       956\n",
            "\n",
            "    accuracy                           0.27     10000\n",
            "   macro avg       0.27      0.27      0.27     10000\n",
            "weighted avg       0.27      0.27      0.27     10000\n",
            "\n"
          ]
        }
      ]
    },
    {
      "cell_type": "code",
      "source": [
        "confusion_matrix(y_pred_dtc,y_test)"
      ],
      "metadata": {
        "colab": {
          "base_uri": "https://localhost:8080/"
        },
        "id": "ZrAkfAXRntNP",
        "outputId": "56e96a12-38e4-4c76-e88d-002d336be9e9"
      },
      "execution_count": 61,
      "outputs": [
        {
          "output_type": "execute_result",
          "data": {
            "text/plain": [
              "array([[350,  78,  95,  63,  58,  59,  48,  74, 140,  85],\n",
              "       [ 80, 279,  43,  55,  49,  58,  43,  76,  97, 174],\n",
              "       [ 81,  63, 217, 120, 157, 101, 129,  94,  60,  58],\n",
              "       [ 53,  82, 100, 185,  92, 155, 118,  89,  51,  69],\n",
              "       [ 72,  64, 148, 113, 223,  86, 146, 103,  43,  46],\n",
              "       [ 49,  46, 106, 126, 108, 209,  95, 102,  41,  52],\n",
              "       [ 37,  49, 108, 135, 126, 113, 283,  66,  26,  46],\n",
              "       [ 48,  65,  91,  82, 105,  98,  64, 264,  43,  94],\n",
              "       [154, 118,  39,  55,  34,  68,  22,  62, 401,  92],\n",
              "       [ 76, 156,  53,  66,  48,  53,  52,  70,  98, 284]])"
            ]
          },
          "metadata": {},
          "execution_count": 61
        }
      ]
    },
    {
      "cell_type": "markdown",
      "source": [
        "Building a Naive Bayes(NB) model"
      ],
      "metadata": {
        "id": "baNiT6UhqIWD"
      }
    },
    {
      "cell_type": "code",
      "execution_count": 69,
      "metadata": {
        "id": "1xkY9MTcqIWG"
      },
      "outputs": [],
      "source": [
        "from sklearn.naive_bayes import GaussianNB"
      ]
    },
    {
      "cell_type": "code",
      "execution_count": 70,
      "metadata": {
        "id": "bJwZlRKJqIWG"
      },
      "outputs": [],
      "source": [
        "nb=GaussianNB()"
      ]
    },
    {
      "cell_type": "code",
      "execution_count": 71,
      "metadata": {
        "colab": {
          "base_uri": "https://localhost:8080/"
        },
        "outputId": "eab5858d-6044-4a44-a0b5-7f9d1b1ffa05",
        "id": "6XIwUzugqIWH"
      },
      "outputs": [
        {
          "output_type": "stream",
          "name": "stderr",
          "text": [
            "/usr/local/lib/python3.7/dist-packages/sklearn/utils/validation.py:993: DataConversionWarning: A column-vector y was passed when a 1d array was expected. Please change the shape of y to (n_samples, ), for example using ravel().\n",
            "  y = column_or_1d(y, warn=True)\n"
          ]
        },
        {
          "output_type": "execute_result",
          "data": {
            "text/plain": [
              "GaussianNB()"
            ]
          },
          "metadata": {},
          "execution_count": 71
        }
      ],
      "source": [
        "nb.fit(x_train2,y_train)"
      ]
    },
    {
      "cell_type": "markdown",
      "source": [
        "NB model evaluation"
      ],
      "metadata": {
        "id": "DIJ_GZexqIWH"
      }
    },
    {
      "cell_type": "code",
      "source": [
        "y_pred_nb=nb.predict(x_test2)\n",
        "y_pred_nb"
      ],
      "metadata": {
        "colab": {
          "base_uri": "https://localhost:8080/"
        },
        "outputId": "f5672d61-e337-48e7-ee73-7c341c72a4fb",
        "id": "-fkV-04eqIWI"
      },
      "execution_count": 72,
      "outputs": [
        {
          "output_type": "execute_result",
          "data": {
            "text/plain": [
              "array([6, 8, 8, ..., 6, 5, 4], dtype=uint8)"
            ]
          },
          "metadata": {},
          "execution_count": 72
        }
      ]
    },
    {
      "cell_type": "code",
      "execution_count": 73,
      "metadata": {
        "colab": {
          "base_uri": "https://localhost:8080/"
        },
        "outputId": "6a6fee09-021e-4dd3-f924-65a516b32482",
        "id": "j60GltjxqIWI"
      },
      "outputs": [
        {
          "output_type": "execute_result",
          "data": {
            "text/plain": [
              "0.2976"
            ]
          },
          "metadata": {},
          "execution_count": 73
        }
      ],
      "source": [
        "accuracy_score(y_pred_nb,y_test)"
      ]
    },
    {
      "cell_type": "code",
      "source": [
        "print(classification_report(y_pred_nb,y_test))"
      ],
      "metadata": {
        "colab": {
          "base_uri": "https://localhost:8080/"
        },
        "outputId": "b66781e8-80a9-4d92-964d-b0d7dfd00cb0",
        "id": "6LyC0YZPqIWJ"
      },
      "execution_count": 74,
      "outputs": [
        {
          "output_type": "stream",
          "name": "stdout",
          "text": [
            "              precision    recall  f1-score   support\n",
            "\n",
            "           0       0.49      0.27      0.35      1817\n",
            "           1       0.17      0.41      0.24       405\n",
            "           2       0.08      0.19      0.12       443\n",
            "           3       0.08      0.25      0.12       305\n",
            "           4       0.42      0.24      0.30      1737\n",
            "           5       0.26      0.31      0.29       840\n",
            "           6       0.47      0.25      0.33      1846\n",
            "           7       0.13      0.42      0.20       310\n",
            "           8       0.47      0.39      0.42      1219\n",
            "           9       0.41      0.38      0.39      1078\n",
            "\n",
            "    accuracy                           0.30     10000\n",
            "   macro avg       0.30      0.31      0.28     10000\n",
            "weighted avg       0.39      0.30      0.32     10000\n",
            "\n"
          ]
        }
      ]
    },
    {
      "cell_type": "code",
      "source": [
        "confusion_matrix(y_pred_nb,y_test)"
      ],
      "metadata": {
        "colab": {
          "base_uri": "https://localhost:8080/"
        },
        "outputId": "63870e00-d897-4c39-d588-e7ec2d646e55",
        "id": "7cvT0Q3zqIWJ"
      },
      "execution_count": 75,
      "outputs": [
        {
          "output_type": "execute_result",
          "data": {
            "text/plain": [
              "array([[494, 141, 225, 163,  86, 156, 106, 134, 168, 144],\n",
              "       [ 20, 166,  24,  36,   8,  17,   2,  24,  41,  67],\n",
              "       [ 39,  24,  83,  54,  57,  55,  60,  36,  18,  17],\n",
              "       [ 10,  31,  15,  76,  26,  51,  18,  41,  17,  20],\n",
              "       [ 84,  66, 292, 151, 417, 167, 228, 228,  56,  48],\n",
              "       [ 34,  72,  48, 129,  38, 264,  46,  94,  83,  32],\n",
              "       [ 50, 192, 209, 262, 265, 159, 467, 102,  39, 101],\n",
              "       [  9,  19,  21,  26,  22,  36,  15, 131,   8,  23],\n",
              "       [200, 121,  54,  34,  50,  57,  19,  72, 471, 141],\n",
              "       [ 60, 168,  29,  69,  31,  38,  39, 138,  99, 407]])"
            ]
          },
          "metadata": {},
          "execution_count": 75
        }
      ]
    },
    {
      "cell_type": "markdown",
      "source": [
        "Testing for custom input\n",
        "\n",
        "image-bird-\n",
        "https://cdn.download.ams.birds.cornell.edu/api/v1/asset/202984001/1200"
      ],
      "metadata": {
        "id": "LvPIxFhgr50g"
      }
    },
    {
      "cell_type": "code",
      "source": [
        "import cv2"
      ],
      "metadata": {
        "id": "12H4MNiWstnj"
      },
      "execution_count": 85,
      "outputs": []
    },
    {
      "cell_type": "code",
      "source": [
        "img_path='/content/bird.jfif'\n",
        "\n",
        "img_arr=cv2.imread(img_path)\n",
        "img_arr=cv2.resize(img_arr,(32,32))\n",
        "\n"
      ],
      "metadata": {
        "id": "MfGZ3U3PsInQ"
      },
      "execution_count": 87,
      "outputs": []
    },
    {
      "cell_type": "code",
      "source": [
        "#so,eventually,model.predict() should also be a 2d input\n",
        "\n",
        "nx, ny, nrgb = img_arr.shape\n",
        "img_arr2 = img_arr.reshape(1,(nx*ny*nrgb))"
      ],
      "metadata": {
        "id": "seGYqVFVr7wW"
      },
      "execution_count": 88,
      "outputs": []
    },
    {
      "cell_type": "code",
      "source": [
        "ans=model.predict(img_arr2)\n",
        "print(classes[ans[0]])\n",
        "#RandomForestClassifier"
      ],
      "metadata": {
        "colab": {
          "base_uri": "https://localhost:8080/"
        },
        "id": "E2qG2xAmtBFW",
        "outputId": "b534aa1d-8124-4d9e-974b-07895646427d"
      },
      "execution_count": 89,
      "outputs": [
        {
          "output_type": "stream",
          "name": "stdout",
          "text": [
            "bird\n"
          ]
        }
      ]
    },
    {
      "cell_type": "code",
      "source": [
        "ans=knn.predict(img_arr2)\n",
        "print(classes[ans[0]])\n",
        "#KNN"
      ],
      "metadata": {
        "colab": {
          "base_uri": "https://localhost:8080/"
        },
        "id": "pWEOoeEytHq0",
        "outputId": "aa9b6cfb-3b46-4496-dbc9-bbdc8aaad9f8"
      },
      "execution_count": 90,
      "outputs": [
        {
          "output_type": "stream",
          "name": "stdout",
          "text": [
            "airplane\n"
          ]
        }
      ]
    },
    {
      "cell_type": "code",
      "source": [
        "ans=dtc.predict(img_arr2)\n",
        "print(classes[ans[0]])\n",
        "#Decision Tree Classifier"
      ],
      "metadata": {
        "colab": {
          "base_uri": "https://localhost:8080/"
        },
        "id": "dboad5dztLTL",
        "outputId": "9879c90d-601f-4e32-9b6f-cb4d5b2e52c4"
      },
      "execution_count": 91,
      "outputs": [
        {
          "output_type": "stream",
          "name": "stdout",
          "text": [
            "horse\n"
          ]
        }
      ]
    },
    {
      "cell_type": "code",
      "source": [
        "ans=nb.predict(img_arr2)\n",
        "print(classes[ans[0]])\n",
        "#Naive Bayes Classifer"
      ],
      "metadata": {
        "colab": {
          "base_uri": "https://localhost:8080/"
        },
        "id": "UuxskvNJtQgX",
        "outputId": "82d3e98b-8008-472e-eb54-94096c064963"
      },
      "execution_count": 92,
      "outputs": [
        {
          "output_type": "stream",
          "name": "stdout",
          "text": [
            "automobile\n"
          ]
        }
      ]
    }
  ]
}